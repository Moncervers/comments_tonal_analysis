{
 "cells": [
  {
   "metadata": {},
   "cell_type": "markdown",
   "source": [
    "# Описание проекта\n",
    "\n",
    "Интернет-магазин запускает новый сервис в котором пользователи могут редактировать и дополнять описания товаров, как в вики-сообществах. То есть клиенты предлагают свои правки и комментируют изменения других.\n",
    "Проект нацелен на создание инструмента, который будет искать токсичные комментарии и отправлять их на модерацию.\n",
    "\n",
    "Обучим модель классифицировать комментарии на позитивные и негативные. Успешной моделью будет считаться та, которая достигнет метрики F1 не менее 0.75 на тестовой выборке.\n",
    "\n",
    "---\n",
    "\n",
    "Описание данных:\n",
    "- `Unnamed: 0` — Столбец индекса, не несет полезной информации\n",
    "- `text` — Текст комментария\n",
    "- `toxic` — Целевая переменная, 1 — токсичный комментарий, 0 — нет."
   ],
   "id": "ae5b652dca3a20a"
  },
  {
   "metadata": {
    "ExecuteTime": {
     "end_time": "2025-08-12T12:11:17.481806Z",
     "start_time": "2025-08-12T12:11:17.479865Z"
    }
   },
   "cell_type": "code",
   "source": [
    "#imports\n",
    "import pandas as pd\n",
    "import numpy as np"
   ],
   "id": "b9ab640f66c7d72a",
   "outputs": [],
   "execution_count": 12
  },
  {
   "metadata": {
    "ExecuteTime": {
     "end_time": "2025-08-12T12:11:17.490881Z",
     "start_time": "2025-08-12T12:11:17.489142Z"
    }
   },
   "cell_type": "code",
   "source": [
    "# Игнорирование предупреждений:\n",
    "import warnings\n",
    "warnings.filterwarnings(\"ignore\")\n",
    "\n",
    "# Настройки воспроизводимости:\n",
    "RANDOM_SEED = 42\n",
    "np.random.seed(RANDOM_SEED)\n",
    "# torch.manual_seed(RANDOM_SEED)"
   ],
   "id": "aa9455bf4ba9ae8a",
   "outputs": [],
   "execution_count": 13
  },
  {
   "metadata": {},
   "cell_type": "markdown",
   "source": [
    "## Загрузка данных\n",
    "\n",
    "Загрузим данные и выведем информацию о них."
   ],
   "id": "c0f22515ed5ce662"
  },
  {
   "metadata": {
    "ExecuteTime": {
     "end_time": "2025-08-12T12:11:17.832824Z",
     "start_time": "2025-08-12T12:11:17.504990Z"
    }
   },
   "cell_type": "code",
   "source": [
    "# Загружаем данные\n",
    "df = pd.read_csv('data/toxic_comments.csv')\n",
    "\n",
    "# Выводим датафрейм\n",
    "df"
   ],
   "id": "11bfb16efc0791cf",
   "outputs": [
    {
     "data": {
      "text/plain": [
       "        Unnamed: 0                                               text  toxic\n",
       "0                0  Explanation\\nWhy the edits made under my usern...      0\n",
       "1                1  D'aww! He matches this background colour I'm s...      0\n",
       "2                2  Hey man, I'm really not trying to edit war. It...      0\n",
       "3                3  \"\\nMore\\nI can't make any real suggestions on ...      0\n",
       "4                4  You, sir, are my hero. Any chance you remember...      0\n",
       "...            ...                                                ...    ...\n",
       "159287      159446  \":::::And for the second time of asking, when ...      0\n",
       "159288      159447  You should be ashamed of yourself \\n\\nThat is ...      0\n",
       "159289      159448  Spitzer \\n\\nUmm, theres no actual article for ...      0\n",
       "159290      159449  And it looks like it was actually you who put ...      0\n",
       "159291      159450  \"\\nAnd ... I really don't think you understand...      0\n",
       "\n",
       "[159292 rows x 3 columns]"
      ],
      "text/html": [
       "<div>\n",
       "<style scoped>\n",
       "    .dataframe tbody tr th:only-of-type {\n",
       "        vertical-align: middle;\n",
       "    }\n",
       "\n",
       "    .dataframe tbody tr th {\n",
       "        vertical-align: top;\n",
       "    }\n",
       "\n",
       "    .dataframe thead th {\n",
       "        text-align: right;\n",
       "    }\n",
       "</style>\n",
       "<table border=\"1\" class=\"dataframe\">\n",
       "  <thead>\n",
       "    <tr style=\"text-align: right;\">\n",
       "      <th></th>\n",
       "      <th>Unnamed: 0</th>\n",
       "      <th>text</th>\n",
       "      <th>toxic</th>\n",
       "    </tr>\n",
       "  </thead>\n",
       "  <tbody>\n",
       "    <tr>\n",
       "      <th>0</th>\n",
       "      <td>0</td>\n",
       "      <td>Explanation\\nWhy the edits made under my usern...</td>\n",
       "      <td>0</td>\n",
       "    </tr>\n",
       "    <tr>\n",
       "      <th>1</th>\n",
       "      <td>1</td>\n",
       "      <td>D'aww! He matches this background colour I'm s...</td>\n",
       "      <td>0</td>\n",
       "    </tr>\n",
       "    <tr>\n",
       "      <th>2</th>\n",
       "      <td>2</td>\n",
       "      <td>Hey man, I'm really not trying to edit war. It...</td>\n",
       "      <td>0</td>\n",
       "    </tr>\n",
       "    <tr>\n",
       "      <th>3</th>\n",
       "      <td>3</td>\n",
       "      <td>\"\\nMore\\nI can't make any real suggestions on ...</td>\n",
       "      <td>0</td>\n",
       "    </tr>\n",
       "    <tr>\n",
       "      <th>4</th>\n",
       "      <td>4</td>\n",
       "      <td>You, sir, are my hero. Any chance you remember...</td>\n",
       "      <td>0</td>\n",
       "    </tr>\n",
       "    <tr>\n",
       "      <th>...</th>\n",
       "      <td>...</td>\n",
       "      <td>...</td>\n",
       "      <td>...</td>\n",
       "    </tr>\n",
       "    <tr>\n",
       "      <th>159287</th>\n",
       "      <td>159446</td>\n",
       "      <td>\":::::And for the second time of asking, when ...</td>\n",
       "      <td>0</td>\n",
       "    </tr>\n",
       "    <tr>\n",
       "      <th>159288</th>\n",
       "      <td>159447</td>\n",
       "      <td>You should be ashamed of yourself \\n\\nThat is ...</td>\n",
       "      <td>0</td>\n",
       "    </tr>\n",
       "    <tr>\n",
       "      <th>159289</th>\n",
       "      <td>159448</td>\n",
       "      <td>Spitzer \\n\\nUmm, theres no actual article for ...</td>\n",
       "      <td>0</td>\n",
       "    </tr>\n",
       "    <tr>\n",
       "      <th>159290</th>\n",
       "      <td>159449</td>\n",
       "      <td>And it looks like it was actually you who put ...</td>\n",
       "      <td>0</td>\n",
       "    </tr>\n",
       "    <tr>\n",
       "      <th>159291</th>\n",
       "      <td>159450</td>\n",
       "      <td>\"\\nAnd ... I really don't think you understand...</td>\n",
       "      <td>0</td>\n",
       "    </tr>\n",
       "  </tbody>\n",
       "</table>\n",
       "<p>159292 rows × 3 columns</p>\n",
       "</div>"
      ]
     },
     "execution_count": 14,
     "metadata": {},
     "output_type": "execute_result"
    }
   ],
   "execution_count": 14
  },
  {
   "metadata": {
    "ExecuteTime": {
     "end_time": "2025-08-12T12:11:17.855859Z",
     "start_time": "2025-08-12T12:11:17.849940Z"
    }
   },
   "cell_type": "code",
   "source": [
    "# Выводим информацию\n",
    "df.info()"
   ],
   "id": "b6c1a514fc89437d",
   "outputs": [
    {
     "name": "stdout",
     "output_type": "stream",
     "text": [
      "<class 'pandas.core.frame.DataFrame'>\n",
      "RangeIndex: 159292 entries, 0 to 159291\n",
      "Data columns (total 3 columns):\n",
      " #   Column      Non-Null Count   Dtype \n",
      "---  ------      --------------   ----- \n",
      " 0   Unnamed: 0  159292 non-null  int64 \n",
      " 1   text        159292 non-null  object\n",
      " 2   toxic       159292 non-null  int64 \n",
      "dtypes: int64(2), object(1)\n",
      "memory usage: 3.6+ MB\n"
     ]
    }
   ],
   "execution_count": 15
  },
  {
   "metadata": {
    "ExecuteTime": {
     "end_time": "2025-08-12T12:11:17.876884Z",
     "start_time": "2025-08-12T12:11:17.871871Z"
    }
   },
   "cell_type": "code",
   "source": [
    "# Удаляем столбец\n",
    "df = df.drop(columns=['Unnamed: 0'], axis=1)\n",
    "\n",
    "# Приводим к типу int8 для экономии памяти\n",
    "df = df['toxic'].astype('int8')\n",
    "\n",
    "# Проверяем, корректно ли удалился столбец\n",
    "df.info()"
   ],
   "id": "eb6cadeb4e43430",
   "outputs": [
    {
     "name": "stdout",
     "output_type": "stream",
     "text": [
      "<class 'pandas.core.series.Series'>\n",
      "RangeIndex: 159292 entries, 0 to 159291\n",
      "Series name: toxic\n",
      "Non-Null Count   Dtype\n",
      "--------------   -----\n",
      "159292 non-null  int8 \n",
      "dtypes: int8(1)\n",
      "memory usage: 155.7 KB\n"
     ]
    }
   ],
   "execution_count": 16
  },
  {
   "metadata": {
    "ExecuteTime": {
     "end_time": "2025-08-12T12:11:17.981857Z",
     "start_time": "2025-08-12T12:11:17.980787Z"
    }
   },
   "cell_type": "code",
   "source": "",
   "id": "fed96c1d5e94d2ba",
   "outputs": [],
   "execution_count": null
  }
 ],
 "metadata": {},
 "nbformat": 4,
 "nbformat_minor": 5
}
