{
 "cells": [
  {
   "metadata": {},
   "cell_type": "markdown",
   "source": [
    "# Описание проекта\n",
    "\n",
    "Интернет-магазин запускает новый сервис в котором пользователи могут редактировать и дополнять описания товаров, как в вики-сообществах. То есть клиенты предлагают свои правки и комментируют изменения других.\n",
    "Проект нацелен на создание инструмента, который будет искать токсичные комментарии и отправлять их на модерацию.\n",
    "\n",
    "Обучим модель классифицировать комментарии на позитивные и негативные. Успешной моделью будет считаться та, которая достигнет метрики F1 не менее 0.75 на тестовой выборке.\n",
    "\n",
    "---\n",
    "\n",
    "Описание данных:\n",
    "- `Unnamed: 0` — Столбец индекса, не несет полезной информации\n",
    "- `text` — Текст комментария\n",
    "- `toxic` — Целевая переменная, 1 — токсичный комментарий, 0 — нет."
   ],
   "id": "ae5b652dca3a20a"
  },
  {
   "metadata": {
    "ExecuteTime": {
     "end_time": "2025-08-13T08:07:50.683122Z",
     "start_time": "2025-08-13T08:07:50.680529Z"
    }
   },
   "cell_type": "code",
   "source": [
    "# imports\n",
    "import pandas as pd\n",
    "import numpy as np\n",
    "\n",
    "# Графики\n",
    "import matplotlib.pyplot as plt\n",
    "import seaborn as sns\n",
    "\n",
    "# Обработка текста\n",
    "import re\n",
    "\n",
    "# Создание эмбеддингов\n",
    "import torch\n",
    "import transformers\n",
    "from tqdm import notebook"
   ],
   "id": "b9ab640f66c7d72a",
   "outputs": [],
   "execution_count": 166
  },
  {
   "metadata": {
    "ExecuteTime": {
     "end_time": "2025-08-13T08:07:50.696538Z",
     "start_time": "2025-08-13T08:07:50.693191Z"
    }
   },
   "cell_type": "code",
   "source": [
    "# Игнорирование предупреждений:\n",
    "import warnings\n",
    "\n",
    "warnings.filterwarnings(\"ignore\")\n",
    "\n",
    "# Настройки воспроизводимости:\n",
    "RANDOM_SEED = 42\n",
    "np.random.seed(RANDOM_SEED)\n",
    "torch.manual_seed(RANDOM_SEED)"
   ],
   "id": "aa9455bf4ba9ae8a",
   "outputs": [
    {
     "data": {
      "text/plain": [
       "<torch._C.Generator at 0x122ff7e90>"
      ]
     },
     "execution_count": 167,
     "metadata": {},
     "output_type": "execute_result"
    }
   ],
   "execution_count": 167
  },
  {
   "metadata": {
    "ExecuteTime": {
     "end_time": "2025-08-13T08:07:50.715003Z",
     "start_time": "2025-08-13T08:07:50.712485Z"
    }
   },
   "cell_type": "code",
   "source": [
    "# Настройка устройства для нейронных сетей\n",
    "if torch.cuda.is_available():\n",
    "    DEFAULT_DEVICE = \"cuda\"\n",
    "elif torch.backends.mps.is_available():\n",
    "    DEFAULT_DEVICE = \"mps\"\n",
    "else:\n",
    "    DEFAULT_DEVICE = \"cpu\"\n",
    "\n",
    "# Проверяем устройство\n",
    "DEFAULT_DEVICE"
   ],
   "id": "3bdb023b390e9a72",
   "outputs": [
    {
     "data": {
      "text/plain": [
       "'mps'"
      ]
     },
     "execution_count": 168,
     "metadata": {},
     "output_type": "execute_result"
    }
   ],
   "execution_count": 168
  },
  {
   "metadata": {},
   "cell_type": "markdown",
   "source": [
    "## Загрузка данных\n",
    "\n",
    "Загрузим данные и выведем информацию о них."
   ],
   "id": "c0f22515ed5ce662"
  },
  {
   "metadata": {
    "ExecuteTime": {
     "end_time": "2025-08-13T08:07:51.052505Z",
     "start_time": "2025-08-13T08:07:50.730580Z"
    }
   },
   "cell_type": "code",
   "source": [
    "# Загружаем данные\n",
    "df = pd.read_csv('data/toxic_comments.csv')\n",
    "\n",
    "# Выводим датафрейм\n",
    "df"
   ],
   "id": "11bfb16efc0791cf",
   "outputs": [
    {
     "data": {
      "text/plain": [
       "        Unnamed: 0                                               text  toxic\n",
       "0                0  Explanation\\nWhy the edits made under my usern...      0\n",
       "1                1  D'aww! He matches this background colour I'm s...      0\n",
       "2                2  Hey man, I'm really not trying to edit war. It...      0\n",
       "3                3  \"\\nMore\\nI can't make any real suggestions on ...      0\n",
       "4                4  You, sir, are my hero. Any chance you remember...      0\n",
       "...            ...                                                ...    ...\n",
       "159287      159446  \":::::And for the second time of asking, when ...      0\n",
       "159288      159447  You should be ashamed of yourself \\n\\nThat is ...      0\n",
       "159289      159448  Spitzer \\n\\nUmm, theres no actual article for ...      0\n",
       "159290      159449  And it looks like it was actually you who put ...      0\n",
       "159291      159450  \"\\nAnd ... I really don't think you understand...      0\n",
       "\n",
       "[159292 rows x 3 columns]"
      ],
      "text/html": [
       "<div>\n",
       "<style scoped>\n",
       "    .dataframe tbody tr th:only-of-type {\n",
       "        vertical-align: middle;\n",
       "    }\n",
       "\n",
       "    .dataframe tbody tr th {\n",
       "        vertical-align: top;\n",
       "    }\n",
       "\n",
       "    .dataframe thead th {\n",
       "        text-align: right;\n",
       "    }\n",
       "</style>\n",
       "<table border=\"1\" class=\"dataframe\">\n",
       "  <thead>\n",
       "    <tr style=\"text-align: right;\">\n",
       "      <th></th>\n",
       "      <th>Unnamed: 0</th>\n",
       "      <th>text</th>\n",
       "      <th>toxic</th>\n",
       "    </tr>\n",
       "  </thead>\n",
       "  <tbody>\n",
       "    <tr>\n",
       "      <th>0</th>\n",
       "      <td>0</td>\n",
       "      <td>Explanation\\nWhy the edits made under my usern...</td>\n",
       "      <td>0</td>\n",
       "    </tr>\n",
       "    <tr>\n",
       "      <th>1</th>\n",
       "      <td>1</td>\n",
       "      <td>D'aww! He matches this background colour I'm s...</td>\n",
       "      <td>0</td>\n",
       "    </tr>\n",
       "    <tr>\n",
       "      <th>2</th>\n",
       "      <td>2</td>\n",
       "      <td>Hey man, I'm really not trying to edit war. It...</td>\n",
       "      <td>0</td>\n",
       "    </tr>\n",
       "    <tr>\n",
       "      <th>3</th>\n",
       "      <td>3</td>\n",
       "      <td>\"\\nMore\\nI can't make any real suggestions on ...</td>\n",
       "      <td>0</td>\n",
       "    </tr>\n",
       "    <tr>\n",
       "      <th>4</th>\n",
       "      <td>4</td>\n",
       "      <td>You, sir, are my hero. Any chance you remember...</td>\n",
       "      <td>0</td>\n",
       "    </tr>\n",
       "    <tr>\n",
       "      <th>...</th>\n",
       "      <td>...</td>\n",
       "      <td>...</td>\n",
       "      <td>...</td>\n",
       "    </tr>\n",
       "    <tr>\n",
       "      <th>159287</th>\n",
       "      <td>159446</td>\n",
       "      <td>\":::::And for the second time of asking, when ...</td>\n",
       "      <td>0</td>\n",
       "    </tr>\n",
       "    <tr>\n",
       "      <th>159288</th>\n",
       "      <td>159447</td>\n",
       "      <td>You should be ashamed of yourself \\n\\nThat is ...</td>\n",
       "      <td>0</td>\n",
       "    </tr>\n",
       "    <tr>\n",
       "      <th>159289</th>\n",
       "      <td>159448</td>\n",
       "      <td>Spitzer \\n\\nUmm, theres no actual article for ...</td>\n",
       "      <td>0</td>\n",
       "    </tr>\n",
       "    <tr>\n",
       "      <th>159290</th>\n",
       "      <td>159449</td>\n",
       "      <td>And it looks like it was actually you who put ...</td>\n",
       "      <td>0</td>\n",
       "    </tr>\n",
       "    <tr>\n",
       "      <th>159291</th>\n",
       "      <td>159450</td>\n",
       "      <td>\"\\nAnd ... I really don't think you understand...</td>\n",
       "      <td>0</td>\n",
       "    </tr>\n",
       "  </tbody>\n",
       "</table>\n",
       "<p>159292 rows × 3 columns</p>\n",
       "</div>"
      ]
     },
     "execution_count": 169,
     "metadata": {},
     "output_type": "execute_result"
    }
   ],
   "execution_count": 169
  },
  {
   "metadata": {
    "ExecuteTime": {
     "end_time": "2025-08-13T08:07:51.081878Z",
     "start_time": "2025-08-13T08:07:51.072467Z"
    }
   },
   "cell_type": "code",
   "source": [
    "# Выводим информацию\n",
    "df.info()"
   ],
   "id": "b6c1a514fc89437d",
   "outputs": [
    {
     "name": "stdout",
     "output_type": "stream",
     "text": [
      "<class 'pandas.core.frame.DataFrame'>\n",
      "RangeIndex: 159292 entries, 0 to 159291\n",
      "Data columns (total 3 columns):\n",
      " #   Column      Non-Null Count   Dtype \n",
      "---  ------      --------------   ----- \n",
      " 0   Unnamed: 0  159292 non-null  int64 \n",
      " 1   text        159292 non-null  object\n",
      " 2   toxic       159292 non-null  int64 \n",
      "dtypes: int64(2), object(1)\n",
      "memory usage: 3.6+ MB\n"
     ]
    }
   ],
   "execution_count": 170
  },
  {
   "metadata": {
    "ExecuteTime": {
     "end_time": "2025-08-13T08:07:52.518859Z",
     "start_time": "2025-08-13T08:07:51.098722Z"
    }
   },
   "cell_type": "code",
   "source": [
    "# Удаляем столбец\n",
    "df = df.drop(columns=['Unnamed: 0'], axis=1)\n",
    "\n",
    "# Приводим данные к нужному типу\n",
    "df['text'] = df['text'].values.astype('U')  # Приводим UTF для дальнейшей обработки\n",
    "df['toxic'] = df['toxic'].astype('int8')  # Приводим к типу int8 для экономии памяти\n",
    "\n",
    "# Проверяем, корректно ли удалился столбец\n",
    "df.info()"
   ],
   "id": "eb6cadeb4e43430",
   "outputs": [
    {
     "name": "stdout",
     "output_type": "stream",
     "text": [
      "<class 'pandas.core.frame.DataFrame'>\n",
      "RangeIndex: 159292 entries, 0 to 159291\n",
      "Data columns (total 2 columns):\n",
      " #   Column  Non-Null Count   Dtype \n",
      "---  ------  --------------   ----- \n",
      " 0   text    159292 non-null  object\n",
      " 1   toxic   159292 non-null  int8  \n",
      "dtypes: int8(1), object(1)\n",
      "memory usage: 1.4+ MB\n"
     ]
    }
   ],
   "execution_count": 171
  },
  {
   "metadata": {},
   "cell_type": "markdown",
   "source": [
    "### Вывод:\n",
    "\n",
    "Мы загрузили данные. В датасете всего 2 столбца: `text` — текст комментария и `toxic` — целевая переменная. Удалили столбец индекса, который не несет полезной информации. Привели данные к нужному типу."
   ],
   "id": "5555d869a6997009"
  },
  {
   "metadata": {},
   "cell_type": "markdown",
   "source": [
    "## Исследовательский анализ данных:\n",
    "\n",
    "У нас всего 2 столбца в датасете, потому посмотрим только на распределение длинны текста и баланс классов целевой переменной"
   ],
   "id": "9d9f80790251fbec"
  },
  {
   "metadata": {
    "ExecuteTime": {
     "end_time": "2025-08-13T08:07:52.656984Z",
     "start_time": "2025-08-13T08:07:52.620683Z"
    }
   },
   "cell_type": "code",
   "source": [
    "# Посмотрим, какой самый длинный комментарий в датасете:\n",
    "df['length'] = df['text'].apply(lambda x: len(x))\n",
    "\n",
    "# Смотрим самые большие комментарии:\n",
    "df.sort_values('length', ascending=False)"
   ],
   "id": "e17279333a0951bd",
   "outputs": [
    {
     "data": {
      "text/plain": [
       "                                                     text  toxic  length\n",
       "75033   IN THE NAME OF YTMND!IN THE NAME OF YTMND!IN T...      0    5000\n",
       "46480   hahahahahahahahahahahahahahahahahaha vandalism...      1    5000\n",
       "72066   China smells like fart. China smells like fart...      1    5000\n",
       "96100   BOOTSTOOTS IS A FRIGGEN GAYFAG LOLOOOLBOOTSTOO...      1    5000\n",
       "53300   BunkSteve is gay! BunkSteve is gay! BunkSteve ...      1    5000\n",
       "...                                                   ...    ...     ...\n",
       "15432                                             Howdy!\"      0       7\n",
       "137400                                             == \"\"\"      0       6\n",
       "52336                                              14:53,      0       6\n",
       "136820                                             ~ J.Lo      0       6\n",
       "119018                                                \"\"\"      1       5\n",
       "\n",
       "[159292 rows x 3 columns]"
      ],
      "text/html": [
       "<div>\n",
       "<style scoped>\n",
       "    .dataframe tbody tr th:only-of-type {\n",
       "        vertical-align: middle;\n",
       "    }\n",
       "\n",
       "    .dataframe tbody tr th {\n",
       "        vertical-align: top;\n",
       "    }\n",
       "\n",
       "    .dataframe thead th {\n",
       "        text-align: right;\n",
       "    }\n",
       "</style>\n",
       "<table border=\"1\" class=\"dataframe\">\n",
       "  <thead>\n",
       "    <tr style=\"text-align: right;\">\n",
       "      <th></th>\n",
       "      <th>text</th>\n",
       "      <th>toxic</th>\n",
       "      <th>length</th>\n",
       "    </tr>\n",
       "  </thead>\n",
       "  <tbody>\n",
       "    <tr>\n",
       "      <th>75033</th>\n",
       "      <td>IN THE NAME OF YTMND!IN THE NAME OF YTMND!IN T...</td>\n",
       "      <td>0</td>\n",
       "      <td>5000</td>\n",
       "    </tr>\n",
       "    <tr>\n",
       "      <th>46480</th>\n",
       "      <td>hahahahahahahahahahahahahahahahahaha vandalism...</td>\n",
       "      <td>1</td>\n",
       "      <td>5000</td>\n",
       "    </tr>\n",
       "    <tr>\n",
       "      <th>72066</th>\n",
       "      <td>China smells like fart. China smells like fart...</td>\n",
       "      <td>1</td>\n",
       "      <td>5000</td>\n",
       "    </tr>\n",
       "    <tr>\n",
       "      <th>96100</th>\n",
       "      <td>BOOTSTOOTS IS A FRIGGEN GAYFAG LOLOOOLBOOTSTOO...</td>\n",
       "      <td>1</td>\n",
       "      <td>5000</td>\n",
       "    </tr>\n",
       "    <tr>\n",
       "      <th>53300</th>\n",
       "      <td>BunkSteve is gay! BunkSteve is gay! BunkSteve ...</td>\n",
       "      <td>1</td>\n",
       "      <td>5000</td>\n",
       "    </tr>\n",
       "    <tr>\n",
       "      <th>...</th>\n",
       "      <td>...</td>\n",
       "      <td>...</td>\n",
       "      <td>...</td>\n",
       "    </tr>\n",
       "    <tr>\n",
       "      <th>15432</th>\n",
       "      <td>Howdy!\"</td>\n",
       "      <td>0</td>\n",
       "      <td>7</td>\n",
       "    </tr>\n",
       "    <tr>\n",
       "      <th>137400</th>\n",
       "      <td>== \"\"\"</td>\n",
       "      <td>0</td>\n",
       "      <td>6</td>\n",
       "    </tr>\n",
       "    <tr>\n",
       "      <th>52336</th>\n",
       "      <td>14:53,</td>\n",
       "      <td>0</td>\n",
       "      <td>6</td>\n",
       "    </tr>\n",
       "    <tr>\n",
       "      <th>136820</th>\n",
       "      <td>~ J.Lo</td>\n",
       "      <td>0</td>\n",
       "      <td>6</td>\n",
       "    </tr>\n",
       "    <tr>\n",
       "      <th>119018</th>\n",
       "      <td>\"\"\"</td>\n",
       "      <td>1</td>\n",
       "      <td>5</td>\n",
       "    </tr>\n",
       "  </tbody>\n",
       "</table>\n",
       "<p>159292 rows × 3 columns</p>\n",
       "</div>"
      ]
     },
     "execution_count": 172,
     "metadata": {},
     "output_type": "execute_result"
    }
   ],
   "execution_count": 172
  },
  {
   "metadata": {
    "ExecuteTime": {
     "end_time": "2025-08-13T08:07:52.922292Z",
     "start_time": "2025-08-13T08:07:52.675530Z"
    }
   },
   "cell_type": "code",
   "source": [
    "plt.figure(figsize=(12, 10))\n",
    "\n",
    "# Гистограмма\n",
    "plt.subplot(2, 1, 1)\n",
    "sns.histplot(df['length'], bins=50, kde=True)\n",
    "plt.title('Распределение длины комментариев')\n",
    "plt.xlabel('Количество символов в комментарии')\n",
    "plt.ylabel('Частота')\n",
    "\n",
    "# Боксплот\n",
    "plt.subplot(2, 1, 2)\n",
    "sns.boxplot(x=df['length'], orient='h')\n",
    "plt.title('Боксплот длины комментариев')\n",
    "plt.xlabel('Количество символов в комментарии')\n",
    "\n",
    "plt.tight_layout()\n",
    "plt.show()"
   ],
   "id": "c69f44c891e77cba",
   "outputs": [
    {
     "data": {
      "text/plain": [
       "<Figure size 1200x1000 with 2 Axes>"
      ],
      "image/png": "[encoded data removed]"
     },
     "metadata": {},
     "output_type": "display_data"
    }
   ],
   "execution_count": 173
  },
  {
   "metadata": {},
   "cell_type": "markdown",
   "source": "Мы видим, что выбросы начинаются с 1000 символов, однако распределение \"выбросов\" почти одинаковое. Смотря на гистограмму, мы видим, что количество комментариев с длинной более 1500 околонулевое, потому удалим их. Еще одной причиной для удаления является то, что BERT способен обрабатывать до 512 токенов, то чуть-чуть больше 1500 символов. В ином случае нам бы пришлось создавать маску размером 5000 символов, что очень сильно увеличило бы время обработки текста и обучения модели. Тем более, что большинство таких комментариев являются просто копипастом одного и того же текста, что не является полезным для обучения модели.",
   "id": "41dd5b146a3e0982"
  },
  {
   "metadata": {
    "ExecuteTime": {
     "end_time": "2025-08-13T08:07:52.957281Z",
     "start_time": "2025-08-13T08:07:52.934362Z"
    }
   },
   "cell_type": "code",
   "source": [
    "plt.figure(figsize=(7, 7))\n",
    "\n",
    "# Рисуем круговую диаграмму\n",
    "plt.pie(\n",
    "    df['toxic'].value_counts(),\n",
    "    labels=['Non-toxic', 'Toxic'],\n",
    "    autopct='%1.1f%%',\n",
    "    colors=sns.color_palette('pastel')[0:2],\n",
    "    startangle=90,\n",
    "    wedgeprops={'edgecolor': 'white'}\n",
    ")\n",
    "plt.title('Распределение целевой переменной')\n",
    "plt.legend(labels, loc='best')\n",
    "\n",
    "plt.show()"
   ],
   "id": "f2e03e07e1244748",
   "outputs": [
    {
     "data": {
      "text/plain": [
       "<Figure size 700x700 with 1 Axes>"
      ],
      "image/png": "[encoded data removed]"
     },
     "metadata": {},
     "output_type": "display_data"
    }
   ],
   "execution_count": 174
  },
  {
   "metadata": {},
   "cell_type": "markdown",
   "source": "Мы видим, что в датасете всего 10% токсичных комментариев, потому при разбиении на обучающую и тестовую выборки стратифицируем классы",
   "id": "14179723c2a2f788"
  },
  {
   "metadata": {},
   "cell_type": "markdown",
   "source": [
    "### Вывод:\n",
    "\n",
    "Мы удалили комментарии длиной более 1200 символов, так как в ином случае нам пришлось бы создавать маску размером 5000 символов, что очень сильно увеличило бы время обработки текста и обучения модели. В датасете присутствует дисбаланс целевого признака: всего 10% токсичных комментариев, потому при разбиении на обучающую и тестовую выборки стратифицируем классы."
   ],
   "id": "8fda2a7a8c041c0e"
  },
  {
   "metadata": {},
   "cell_type": "markdown",
   "source": [
    "## Предобработка данных\n",
    "\n",
    "Удалим комментарии длиннее 1200 символов. Так как BERT обучен на сырых данных, то излишняя предобработка может навредить. Не будем убирать пунктуацию, так как она может нести смысловую нагрузку. Также не будем приводить текст к нижнему регистру, так как BERT чувствителен к регистру, и регистр комментария может играть важную роль в тональности комментария. Удалим только вики-разметку, шаблоны и лишние переносы строк. Стоп-слова удалять не будем, потому что он может нарушить структуру предложения и снизить качество эмбеддингов."
   ],
   "id": "54634b85e7b9a508"
  },
  {
   "metadata": {
    "ExecuteTime": {
     "end_time": "2025-08-13T08:07:53.341520Z",
     "start_time": "2025-08-13T08:07:53.088672Z"
    }
   },
   "cell_type": "code",
   "source": [
    "# Оставляем комментарии только с длиной менее 1500 символов\n",
    "df = df[df['length'] < 1200].reset_index(drop=True)\n",
    "\n",
    "# Выводим размер датасета после удаления выбросов\n",
    "print(f'Размер датасета после удаления выбросов: {df.shape[0]}')\n",
    "\n",
    "# Проверяем, что выбросы удалены\n",
    "plt.figure(figsize=(12, 10))\n",
    "\n",
    "# Гистограмма\n",
    "plt.subplot(2, 1, 1)\n",
    "sns.histplot(df['length'], bins=50, kde=True)\n",
    "plt.title('Распределение длины комментариев')\n",
    "plt.xlabel('Количество символов в комментарии')\n",
    "plt.ylabel('Частота')\n",
    "\n",
    "# Боксплот\n",
    "plt.subplot(2, 1, 2)\n",
    "sns.boxplot(x=df['length'], orient='h')\n",
    "plt.title('Боксплот длины комментариев')\n",
    "plt.xlabel('Количество символов в комментарии')\n",
    "\n",
    "plt.tight_layout()\n",
    "plt.show()"
   ],
   "id": "382215a3bbda4b7e",
   "outputs": [
    {
     "name": "stdout",
     "output_type": "stream",
     "text": [
      "Размер датасета после удаления выбросов: 149552\n"
     ]
    },
    {
     "data": {
      "text/plain": [
       "<Figure size 1200x1000 with 2 Axes>"
      ],
      "image/png": "[encoded data removed]"
     },
     "metadata": {},
     "output_type": "display_data"
    }
   ],
   "execution_count": 175
  },
  {
   "metadata": {},
   "cell_type": "markdown",
   "source": "После удаления \"выбросов\" у нас осталось 149 000 из 159 000 комментариев. Мы удалили всего примерно 6% данных, но значительно облегчили модель",
   "id": "89cbc637a36f14f7"
  },
  {
   "metadata": {
    "ExecuteTime": {
     "end_time": "2025-08-13T08:07:53.352638Z",
     "start_time": "2025-08-13T08:07:53.348619Z"
    }
   },
   "cell_type": "code",
   "source": [
    "# Сохраняем максимальную длину комментария, чтобы создать маску\n",
    "max_length = df['length'].max()\n",
    "\n",
    "# Удаляем столбец с длиной комментария\n",
    "df = df.drop(columns=['length'], axis=1)"
   ],
   "id": "c0371b79252c2404",
   "outputs": [],
   "execution_count": 176
  },
  {
   "metadata": {
    "ExecuteTime": {
     "end_time": "2025-08-13T08:07:53.361175Z",
     "start_time": "2025-08-13T08:07:53.359578Z"
    }
   },
   "cell_type": "code",
   "source": [
    "def preprocess_text_for_bert(text: str) -> str:\n",
    "    \"\"\"\n",
    "    Предобработка текста для BERT: удаление вики-разметки и лишних переносов строк.\n",
    "    \"\"\"\n",
    "    # Удаление вики-разметки (заголовков вида == ... ==)\n",
    "    text = re.sub(r'==+.*?==+', '', text)  #TODO: Удалить и проверить метрику\n",
    "\n",
    "    # Удаление вики-шаблонов ({{...}} или незакрытых {{...)\n",
    "    text = re.sub(r'\\{\\{[^}]*\\}\\}|\\\\{\\\\{.*', '', text)\n",
    "    text = re.sub(r'[{|/]', ' ', text)\n",
    "\n",
    "    # Удаление вики-ссылок вида [[...]]\n",
    "    text = re.sub(r'\\[\\[[^\\]]*]\\]', '', text)\n",
    "\n",
    "    # Удаление переносов строк\n",
    "    text = re.sub(r'\\n+', ' ', text)\n",
    "\n",
    "    # Удаление лишних пробелов\n",
    "    text = ' '.join(text.split())\n",
    "\n",
    "    return text"
   ],
   "id": "be1fa0528803148f",
   "outputs": [],
   "execution_count": 177
  },
  {
   "metadata": {
    "ExecuteTime": {
     "end_time": "2025-08-13T08:07:53.369358Z",
     "start_time": "2025-08-13T08:07:53.367698Z"
    }
   },
   "cell_type": "code",
   "source": [
    "# Проверяем работу функции\n",
    "texts = [\n",
    "    \"\\n\\nCongratulations from me as well, use the tools well.  · talk \",\n",
    "    \"== A barnstar for you! ==\\n\\n  The Real Life Barnstar lets us be the stars\\n   \",\n",
    "    \"{{unblock|yo\",  # Незакрытый шаблон\n",
    "    \"{{unblock|yo}}\",  # Полный шаблон\n",
    "    \"Text with {{template|param1|param2}} and more text\",  # Шаблон внутри текста\n",
    "    \"Multiple {{temp1}} and {{temp2|param}} templates\",  # Несколько шаблонов\n",
    "    \"No templates here!\",  # Текст без шаблонов\n",
    "]\n",
    "\n",
    "for text in texts:\n",
    "    print(preprocess_text_for_bert(text))"
   ],
   "id": "387606b060e2e2ea",
   "outputs": [
    {
     "name": "stdout",
     "output_type": "stream",
     "text": [
      "Congratulations from me as well, use the tools well. · talk\n",
      "The Real Life Barnstar lets us be the stars\n",
      "unblock yo\n",
      "\n",
      "Text with and more text\n",
      "Multiple and templates\n",
      "No templates here!\n"
     ]
    }
   ],
   "execution_count": 178
  },
  {
   "metadata": {
    "ExecuteTime": {
     "end_time": "2025-08-13T08:07:54.380705Z",
     "start_time": "2025-08-13T08:07:53.384216Z"
    }
   },
   "cell_type": "code",
   "source": [
    "# Очищаем текст для BERT\n",
    "df['text'] = df['text'].apply(preprocess_text_for_bert)\n",
    "\n",
    "# Выводим датасест\n",
    "df"
   ],
   "id": "7fd87363ef5d4203",
   "outputs": [
    {
     "data": {
      "text/plain": [
       "                                                     text  toxic\n",
       "0       Explanation Why the edits made under my userna...      0\n",
       "1       D'aww! He matches this background colour I'm s...      0\n",
       "2       Hey man, I'm really not trying to edit war. It...      0\n",
       "3       \" More I can't make any real suggestions on im...      0\n",
       "4       You, sir, are my hero. Any chance you remember...      0\n",
       "...                                                   ...    ...\n",
       "149547  \":::::And for the second time of asking, when ...      0\n",
       "149548  You should be ashamed of yourself That is a ho...      0\n",
       "149549  Spitzer Umm, theres no actual article for pros...      0\n",
       "149550  And it looks like it was actually you who put ...      0\n",
       "149551  \" And ... I really don't think you understand....      0\n",
       "\n",
       "[149552 rows x 2 columns]"
      ],
      "text/html": [
       "<div>\n",
       "<style scoped>\n",
       "    .dataframe tbody tr th:only-of-type {\n",
       "        vertical-align: middle;\n",
       "    }\n",
       "\n",
       "    .dataframe tbody tr th {\n",
       "        vertical-align: top;\n",
       "    }\n",
       "\n",
       "    .dataframe thead th {\n",
       "        text-align: right;\n",
       "    }\n",
       "</style>\n",
       "<table border=\"1\" class=\"dataframe\">\n",
       "  <thead>\n",
       "    <tr style=\"text-align: right;\">\n",
       "      <th></th>\n",
       "      <th>text</th>\n",
       "      <th>toxic</th>\n",
       "    </tr>\n",
       "  </thead>\n",
       "  <tbody>\n",
       "    <tr>\n",
       "      <th>0</th>\n",
       "      <td>Explanation Why the edits made under my userna...</td>\n",
       "      <td>0</td>\n",
       "    </tr>\n",
       "    <tr>\n",
       "      <th>1</th>\n",
       "      <td>D'aww! He matches this background colour I'm s...</td>\n",
       "      <td>0</td>\n",
       "    </tr>\n",
       "    <tr>\n",
       "      <th>2</th>\n",
       "      <td>Hey man, I'm really not trying to edit war. It...</td>\n",
       "      <td>0</td>\n",
       "    </tr>\n",
       "    <tr>\n",
       "      <th>3</th>\n",
       "      <td>\" More I can't make any real suggestions on im...</td>\n",
       "      <td>0</td>\n",
       "    </tr>\n",
       "    <tr>\n",
       "      <th>4</th>\n",
       "      <td>You, sir, are my hero. Any chance you remember...</td>\n",
       "      <td>0</td>\n",
       "    </tr>\n",
       "    <tr>\n",
       "      <th>...</th>\n",
       "      <td>...</td>\n",
       "      <td>...</td>\n",
       "    </tr>\n",
       "    <tr>\n",
       "      <th>149547</th>\n",
       "      <td>\":::::And for the second time of asking, when ...</td>\n",
       "      <td>0</td>\n",
       "    </tr>\n",
       "    <tr>\n",
       "      <th>149548</th>\n",
       "      <td>You should be ashamed of yourself That is a ho...</td>\n",
       "      <td>0</td>\n",
       "    </tr>\n",
       "    <tr>\n",
       "      <th>149549</th>\n",
       "      <td>Spitzer Umm, theres no actual article for pros...</td>\n",
       "      <td>0</td>\n",
       "    </tr>\n",
       "    <tr>\n",
       "      <th>149550</th>\n",
       "      <td>And it looks like it was actually you who put ...</td>\n",
       "      <td>0</td>\n",
       "    </tr>\n",
       "    <tr>\n",
       "      <th>149551</th>\n",
       "      <td>\" And ... I really don't think you understand....</td>\n",
       "      <td>0</td>\n",
       "    </tr>\n",
       "  </tbody>\n",
       "</table>\n",
       "<p>149552 rows × 2 columns</p>\n",
       "</div>"
      ]
     },
     "execution_count": 179,
     "metadata": {},
     "output_type": "execute_result"
    }
   ],
   "execution_count": 179
  },
  {
   "metadata": {},
   "cell_type": "markdown",
   "source": [
    "### Создание эмбеддингов\n",
    "\n",
    "Для создания эмбеддингов будем использовать предобученную модель BERT на английском тексте. Она позволяет получить векторное представление текста, которое можно использовать для классификации."
   ],
   "id": "d80d1d7bbbd6a9ab"
  },
  {
   "metadata": {
    "ExecuteTime": {
     "end_time": "2025-08-13T08:12:10.086046Z",
     "start_time": "2025-08-13T08:12:03.914557Z"
    }
   },
   "cell_type": "code",
   "source": [
    "tokenizer = transformers.BertTokenizer.from_pretrained('bert-large-cased')\n",
    "model = transformers.BertModel.from_pretrained('bert-large-cased')\n",
    "model.to(DEFAULT_DEVICE)  # Переносим модель на устройство"
   ],
   "id": "52c77802ef8cd1a1",
   "outputs": [
    {
     "data": {
      "text/plain": [
       "BertModel(\n",
       "  (embeddings): BertEmbeddings(\n",
       "    (word_embeddings): Embedding(28996, 1024, padding_idx=0)\n",
       "    (position_embeddings): Embedding(512, 1024)\n",
       "    (token_type_embeddings): Embedding(2, 1024)\n",
       "    (LayerNorm): LayerNorm((1024,), eps=1e-12, elementwise_affine=True)\n",
       "    (dropout): Dropout(p=0.1, inplace=False)\n",
       "  )\n",
       "  (encoder): BertEncoder(\n",
       "    (layer): ModuleList(\n",
       "      (0-23): 24 x BertLayer(\n",
       "        (attention): BertAttention(\n",
       "          (self): BertSdpaSelfAttention(\n",
       "            (query): Linear(in_features=1024, out_features=1024, bias=True)\n",
       "            (key): Linear(in_features=1024, out_features=1024, bias=True)\n",
       "            (value): Linear(in_features=1024, out_features=1024, bias=True)\n",
       "            (dropout): Dropout(p=0.1, inplace=False)\n",
       "          )\n",
       "          (output): BertSelfOutput(\n",
       "            (dense): Linear(in_features=1024, out_features=1024, bias=True)\n",
       "            (LayerNorm): LayerNorm((1024,), eps=1e-12, elementwise_affine=True)\n",
       "            (dropout): Dropout(p=0.1, inplace=False)\n",
       "          )\n",
       "        )\n",
       "        (intermediate): BertIntermediate(\n",
       "          (dense): Linear(in_features=1024, out_features=4096, bias=True)\n",
       "          (intermediate_act_fn): GELUActivation()\n",
       "        )\n",
       "        (output): BertOutput(\n",
       "          (dense): Linear(in_features=4096, out_features=1024, bias=True)\n",
       "          (LayerNorm): LayerNorm((1024,), eps=1e-12, elementwise_affine=True)\n",
       "          (dropout): Dropout(p=0.1, inplace=False)\n",
       "        )\n",
       "      )\n",
       "    )\n",
       "  )\n",
       "  (pooler): BertPooler(\n",
       "    (dense): Linear(in_features=1024, out_features=1024, bias=True)\n",
       "    (activation): Tanh()\n",
       "  )\n",
       ")"
      ]
     },
     "execution_count": 196,
     "metadata": {},
     "output_type": "execute_result"
    }
   ],
   "execution_count": 196
  },
  {
   "metadata": {
    "ExecuteTime": {
     "end_time": "2025-08-13T08:12:12.452022Z",
     "start_time": "2025-08-13T08:12:12.447377Z"
    }
   },
   "cell_type": "code",
   "source": [
    "def get_bert_embeddings(texts: list, batch_size: int = 32, device: str = DEFAULT_DEVICE):\n",
    "    embeddings = []  # Список для хранения эмбеддингов\n",
    "    for i in notebook.tqdm(range(0, len(texts), batch_size)):\n",
    "        # Выбираем батч текстов\n",
    "        batch_texts = texts[i:i + batch_size]\n",
    "\n",
    "        # Токенизация батча\n",
    "        inputs = tokenizer(batch_texts, return_tensors='pt', max_length=512, truncation=True, padding=True)\n",
    "\n",
    "        # Переносим inputs на устройство\n",
    "        inputs = {k: v.to(device) for k, v in inputs.items()}\n",
    "\n",
    "        # Пропускаем батч через модель без градиентов (экономим память, так как не обучаем)\n",
    "        with torch.no_grad():\n",
    "            outputs = model(**inputs)\n",
    "\n",
    "            # Извлекаем pooler_output и конвертируем в numpy\n",
    "        batch_embeddings = outputs.pooler_output.cpu().numpy()\n",
    "\n",
    "        # Добавляем батч эмбеддингов в общий список\n",
    "        embeddings.extend(batch_embeddings)\n",
    "\n",
    "    return embeddings"
   ],
   "id": "c6f48e77dd198592",
   "outputs": [],
   "execution_count": 197
  },
  {
   "metadata": {
    "ExecuteTime": {
     "end_time": "2025-08-13T09:57:59.186411Z",
     "start_time": "2025-08-13T08:12:20.963062Z"
    }
   },
   "cell_type": "code",
   "source": [
    "# # Создаем эмбеддинги\n",
    "# embeddings = get_bert_embeddings(df['text'].tolist(), batch_size=128)"
   ],
   "id": "134300bc5ca7740e",
   "outputs": [
    {
     "data": {
      "text/plain": [
       "  0%|          | 0/1169 [00:00<?, ?it/s]"
      ],
      "application/vnd.jupyter.widget-view+json": {
       "version_major": 2,
       "version_minor": 0,
       "model_id": "1cb2966abe134f63b052e735b20217c2"
      }
     },
     "metadata": {},
     "output_type": "display_data"
    }
   ],
   "execution_count": 198
  },
  {
   "metadata": {
    "ExecuteTime": {
     "end_time": "2025-08-13T10:00:43.849779Z",
     "start_time": "2025-08-13T10:00:43.588338Z"
    }
   },
   "cell_type": "code",
   "source": [
    "# # Сохраняем эмбеддинги в файл\n",
    "# np.save('data/embeddings.npy', embeddings)\n",
    "\n",
    "# Загружаем эмбеддинги из файла\n",
    "embeddings = np.load('data/embeddings.npy')"
   ],
   "id": "4503d3ceb049cc57",
   "outputs": [],
   "execution_count": 203
  },
  {
   "metadata": {},
   "cell_type": "code",
   "outputs": [],
   "execution_count": null,
   "source": "",
   "id": "3a4dc15b2b9bd646"
  }
 ],
 "metadata": {},
 "nbformat": 4,
 "nbformat_minor": 5
}
